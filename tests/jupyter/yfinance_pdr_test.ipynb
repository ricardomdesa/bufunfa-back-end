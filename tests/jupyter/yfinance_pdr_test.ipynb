{
 "metadata": {
  "language_info": {
   "codemirror_mode": {
    "name": "ipython",
    "version": 3
   },
   "file_extension": ".py",
   "mimetype": "text/x-python",
   "name": "python",
   "nbconvert_exporter": "python",
   "pygments_lexer": "ipython3",
   "version": "3.9.4"
  },
  "orig_nbformat": 2,
  "kernelspec": {
   "name": "python394jvsc74a57bd0a09fd648ec9e2fbeafd96da120a692eac2d40758a0f20c9ca93aa3600c1d114d",
   "display_name": "Python 3.9.4 64-bit ('bufunfa_backend': virtualenvwrapper)"
  },
  "metadata": {
   "interpreter": {
    "hash": "a09fd648ec9e2fbeafd96da120a692eac2d40758a0f20c9ca93aa3600c1d114d"
   }
  }
 },
 "nbformat": 4,
 "nbformat_minor": 2,
 "cells": [
  {
   "cell_type": "code",
   "execution_count": 39,
   "metadata": {},
   "outputs": [],
   "source": [
    "from pandas_datareader import data as pdr\n",
    "import pandas as pd\n",
    "import numpy as np\n",
    "from datetime import date, timedelta"
   ]
  },
  {
   "cell_type": "code",
   "execution_count": 29,
   "metadata": {},
   "outputs": [],
   "source": [
    "    def __get_dates():\n",
    "        start_date = date.today() - timedelta(days=int(6))\n",
    "        end_date = date.today()\n",
    "        start_date = pd.to_datetime('2021-05-16').strftime('%Y-%m-%d')\n",
    "        end_date = pd.to_datetime('2021-05-18').strftime('%Y-%m-%d')\n",
    "        return start_date, end_date"
   ]
  },
  {
   "cell_type": "code",
   "execution_count": 30,
   "metadata": {},
   "outputs": [
    {
     "output_type": "execute_result",
     "data": {
      "text/plain": [
       "Symbols      BBDC3.SA  TRIS3.SA\n",
       "Date                           \n",
       "2021-05-17  21.780001      10.7\n",
       "2021-05-18  22.010000      10.7"
      ],
      "text/html": "<div>\n<style scoped>\n    .dataframe tbody tr th:only-of-type {\n        vertical-align: middle;\n    }\n\n    .dataframe tbody tr th {\n        vertical-align: top;\n    }\n\n    .dataframe thead th {\n        text-align: right;\n    }\n</style>\n<table border=\"1\" class=\"dataframe\">\n  <thead>\n    <tr style=\"text-align: right;\">\n      <th>Symbols</th>\n      <th>BBDC3.SA</th>\n      <th>TRIS3.SA</th>\n    </tr>\n    <tr>\n      <th>Date</th>\n      <th></th>\n      <th></th>\n    </tr>\n  </thead>\n  <tbody>\n    <tr>\n      <th>2021-05-17</th>\n      <td>21.780001</td>\n      <td>10.7</td>\n    </tr>\n    <tr>\n      <th>2021-05-18</th>\n      <td>22.010000</td>\n      <td>10.7</td>\n    </tr>\n  </tbody>\n</table>\n</div>"
     },
     "metadata": {},
     "execution_count": 30
    }
   ],
   "source": [
    "start_date, end_date = __get_dates()\n",
    "df = pdr.get_data_yahoo(['BBDC3.SA', 'TRIS3.SA'], start=start_date, end=end_date)\n",
    "df['Adj Close']"
   ]
  },
  {
   "cell_type": "code",
   "execution_count": 40,
   "metadata": {},
   "outputs": [
    {
     "output_type": "execute_result",
     "data": {
      "text/plain": [
       "'2021-05-18'"
      ]
     },
     "metadata": {},
     "execution_count": 40
    }
   ],
   "source": [
    "t = df.index.values[-1]\n",
    "np.datetime_as_string(t, unit='D')"
   ]
  },
  {
   "cell_type": "code",
   "execution_count": 104,
   "metadata": {},
   "outputs": [
    {
     "output_type": "execute_result",
     "data": {
      "text/plain": [
       "[{'BBDC3.SA': 22.01, 'TRIS3.SA': 10.7}]"
      ]
     },
     "metadata": {},
     "execution_count": 104
    }
   ],
   "source": [
    "df1 = df.loc[:,'Adj Close']\n",
    "round_df = df1.iloc[-1:,:].applymap(lambda x: round(x, 2))\n",
    "rm_SA = round_df.iloc[].applymap(lambda x: x)\n",
    ".to_dict('records')\n",
    "stocks_dict = [{'BBDC3.SA': 22.01, 'TRIS3.SA': 10.7, 'RANI3.SA': 8.2, 'SGPS3.SA': 11.27, 'MILS3.SA': 8.73, 'KEPL3.SA': 52.99, 'JBSS3.SA': 29.6, 'TUPY3.SA': 25.69, 'CSAN3.SA': 22.43, 'CVCB3.SA': 24.85, 'SHOW3.SA': 5.7, 'MOVI3.SA': 17.32, 'SQIA3.SA': 22.05, 'DMVF3.SA': 9.15, 'COGN3.SA': 4.02, 'LPSB3.SA': 4.12, 'POMO4.SA': 2.76, 'OIBR3.SA': 1.54}]\n",
    "dici"
   ]
  },
  {
   "cell_type": "code",
   "execution_count": 97,
   "metadata": {},
   "outputs": [
    {
     "output_type": "stream",
     "name": "stdout",
     "text": [
      "BBDC3.SA  - -  22.01\nTRIS3.SA  - -  10.7\nRANI3.SA  - -  8.2\nSGPS3.SA  - -  11.27\nMILS3.SA  - -  8.73\nKEPL3.SA  - -  52.99\nJBSS3.SA  - -  29.6\nTUPY3.SA  - -  25.69\nCSAN3.SA  - -  22.43\nCVCB3.SA  - -  24.85\nSHOW3.SA  - -  5.7\nMOVI3.SA  - -  17.32\nSQIA3.SA  - -  22.05\nDMVF3.SA  - -  9.15\nCOGN3.SA  - -  4.02\nLPSB3.SA  - -  4.12\nPOMO4.SA  - -  2.76\nOIBR3.SA  - -  1.54\n"
     ]
    }
   ],
   "source": [
    "for k, v in stocks_dict[0].items():\n",
    "    print(k, ' - - ', v)"
   ]
  },
  {
   "cell_type": "code",
   "execution_count": 86,
   "metadata": {},
   "outputs": [
    {
     "output_type": "execute_result",
     "data": {
      "text/plain": [
       "Date      2021-05-18\n",
       "Symbols             \n",
       "BBDC3.SA       22.01\n",
       "TRIS3.SA       10.70"
      ],
      "text/html": "<div>\n<style scoped>\n    .dataframe tbody tr th:only-of-type {\n        vertical-align: middle;\n    }\n\n    .dataframe tbody tr th {\n        vertical-align: top;\n    }\n\n    .dataframe thead th {\n        text-align: right;\n    }\n</style>\n<table border=\"1\" class=\"dataframe\">\n  <thead>\n    <tr style=\"text-align: right;\">\n      <th>Date</th>\n      <th>2021-05-18</th>\n    </tr>\n    <tr>\n      <th>Symbols</th>\n      <th></th>\n    </tr>\n  </thead>\n  <tbody>\n    <tr>\n      <th>BBDC3.SA</th>\n      <td>22.01</td>\n    </tr>\n    <tr>\n      <th>TRIS3.SA</th>\n      <td>10.70</td>\n    </tr>\n  </tbody>\n</table>\n</div>"
     },
     "metadata": {},
     "execution_count": 86
    }
   ],
   "source": [
    "df3.iloc[:,:1].applymap(lambda x: round(x, 2))"
   ]
  },
  {
   "cell_type": "code",
   "execution_count": 89,
   "metadata": {},
   "outputs": [
    {
     "output_type": "execute_result",
     "data": {
      "text/plain": [
       "Symbols     BBDC3.SA  TRIS3.SA\n",
       "Date                          \n",
       "2021-05-18     22.01      10.7"
      ],
      "text/html": "<div>\n<style scoped>\n    .dataframe tbody tr th:only-of-type {\n        vertical-align: middle;\n    }\n\n    .dataframe tbody tr th {\n        vertical-align: top;\n    }\n\n    .dataframe thead th {\n        text-align: right;\n    }\n</style>\n<table border=\"1\" class=\"dataframe\">\n  <thead>\n    <tr style=\"text-align: right;\">\n      <th>Symbols</th>\n      <th>BBDC3.SA</th>\n      <th>TRIS3.SA</th>\n    </tr>\n    <tr>\n      <th>Date</th>\n      <th></th>\n      <th></th>\n    </tr>\n  </thead>\n  <tbody>\n    <tr>\n      <th>2021-05-18</th>\n      <td>22.01</td>\n      <td>10.7</td>\n    </tr>\n  </tbody>\n</table>\n</div>"
     },
     "metadata": {},
     "execution_count": 89
    }
   ],
   "source": [
    "df4 = df3.T\n",
    "df4\n",
    "# df4.to_dict('records')\n"
   ]
  },
  {
   "cell_type": "code",
   "execution_count": 22,
   "metadata": {},
   "outputs": [
    {
     "output_type": "execute_result",
     "data": {
      "text/plain": [
       "2"
      ]
     },
     "metadata": {},
     "execution_count": 22
    }
   ],
   "source": [
    "from datetime import datetime, timedelta, date\n",
    "today = date.today()\n",
    "yesterday = today - timedelta(days=int(1))\n",
    "report_name_format = '%Y-%m-%d'\n",
    "day_yesterday = pd.to_datetime(yesterday).strftime(report_name_format)\n",
    "day_yesterday\n",
    "day_today = pd.to_datetime(date.today()).strftime(report_name_format)\n",
    "day_today\n",
    "date.isoweekday(today)\n",
    "\n",
    "pd.bdate_range()"
   ]
  },
  {
   "cell_type": "code",
   "execution_count": 13,
   "metadata": {},
   "outputs": [
    {
     "output_type": "execute_result",
     "data": {
      "text/plain": [
       "Symbols      BBDC3.SA\n",
       "Date                 \n",
       "2016-05-19  12.292517\n",
       "2016-05-20  12.162088\n",
       "2016-05-23  12.054954\n",
       "2016-05-24  12.143458\n",
       "2016-05-25  12.059612\n",
       "...               ...\n",
       "2021-05-10  21.469999\n",
       "2021-05-11  21.430000\n",
       "2021-05-12  20.969999\n",
       "2021-05-13  21.610001\n",
       "2021-05-14  21.750000\n",
       "\n",
       "[1238 rows x 1 columns]"
      ],
      "text/html": "<div>\n<style scoped>\n    .dataframe tbody tr th:only-of-type {\n        vertical-align: middle;\n    }\n\n    .dataframe tbody tr th {\n        vertical-align: top;\n    }\n\n    .dataframe thead th {\n        text-align: right;\n    }\n</style>\n<table border=\"1\" class=\"dataframe\">\n  <thead>\n    <tr style=\"text-align: right;\">\n      <th>Symbols</th>\n      <th>BBDC3.SA</th>\n    </tr>\n    <tr>\n      <th>Date</th>\n      <th></th>\n    </tr>\n  </thead>\n  <tbody>\n    <tr>\n      <th>2016-05-19</th>\n      <td>12.292517</td>\n    </tr>\n    <tr>\n      <th>2016-05-20</th>\n      <td>12.162088</td>\n    </tr>\n    <tr>\n      <th>2016-05-23</th>\n      <td>12.054954</td>\n    </tr>\n    <tr>\n      <th>2016-05-24</th>\n      <td>12.143458</td>\n    </tr>\n    <tr>\n      <th>2016-05-25</th>\n      <td>12.059612</td>\n    </tr>\n    <tr>\n      <th>...</th>\n      <td>...</td>\n    </tr>\n    <tr>\n      <th>2021-05-10</th>\n      <td>21.469999</td>\n    </tr>\n    <tr>\n      <th>2021-05-11</th>\n      <td>21.430000</td>\n    </tr>\n    <tr>\n      <th>2021-05-12</th>\n      <td>20.969999</td>\n    </tr>\n    <tr>\n      <th>2021-05-13</th>\n      <td>21.610001</td>\n    </tr>\n    <tr>\n      <th>2021-05-14</th>\n      <td>21.750000</td>\n    </tr>\n  </tbody>\n</table>\n<p>1238 rows × 1 columns</p>\n</div>"
     },
     "metadata": {},
     "execution_count": 13
    }
   ],
   "source": [
    "df = pdr.get_data_yahoo(['BBDC3.SA',], end='2021-05-14')\n",
    "df['Adj Close']\n"
   ]
  },
  {
   "cell_type": "code",
   "execution_count": 14,
   "metadata": {},
   "outputs": [
    {
     "output_type": "execute_result",
     "data": {
      "text/plain": [
       "Attributes  Adj Close      Close       High        Low       Open      Volume\n",
       "Symbols      BBDC3.SA   BBDC3.SA   BBDC3.SA   BBDC3.SA   BBDC3.SA    BBDC3.SA\n",
       "Date                                                                         \n",
       "2016-05-19  12.292517  15.020604  15.225508  14.935227  15.162898   1454554.0\n",
       "2016-05-20  12.162088  14.861234  15.231200  14.838467  15.168590   1177663.0\n",
       "2016-05-23  12.054954  14.730323  14.997837  14.405892  14.417275   2006226.0\n",
       "2016-05-24  12.143458  14.838467  15.026296  14.667713  14.918152   1497422.0\n",
       "2016-05-25  12.059612  14.736015  15.157206  14.713248  14.935227   1498301.0\n",
       "...               ...        ...        ...        ...        ...         ...\n",
       "2021-05-10  21.469999  21.469999  21.469999  20.820000  20.879999   5627500.0\n",
       "2021-05-11  21.430000  21.430000  21.580000  21.139999  21.139999   4763800.0\n",
       "2021-05-12  20.969999  20.969999  21.180000  20.840000  21.070000   6698700.0\n",
       "2021-05-13  21.610001  21.610001  21.740000  20.959999  20.990000  10439700.0\n",
       "2021-05-14  21.750000  21.750000  21.969999  21.420000  21.860001   3728500.0\n",
       "\n",
       "[1238 rows x 6 columns]"
      ],
      "text/html": "<div>\n<style scoped>\n    .dataframe tbody tr th:only-of-type {\n        vertical-align: middle;\n    }\n\n    .dataframe tbody tr th {\n        vertical-align: top;\n    }\n\n    .dataframe thead tr th {\n        text-align: left;\n    }\n\n    .dataframe thead tr:last-of-type th {\n        text-align: right;\n    }\n</style>\n<table border=\"1\" class=\"dataframe\">\n  <thead>\n    <tr>\n      <th>Attributes</th>\n      <th>Adj Close</th>\n      <th>Close</th>\n      <th>High</th>\n      <th>Low</th>\n      <th>Open</th>\n      <th>Volume</th>\n    </tr>\n    <tr>\n      <th>Symbols</th>\n      <th>BBDC3.SA</th>\n      <th>BBDC3.SA</th>\n      <th>BBDC3.SA</th>\n      <th>BBDC3.SA</th>\n      <th>BBDC3.SA</th>\n      <th>BBDC3.SA</th>\n    </tr>\n    <tr>\n      <th>Date</th>\n      <th></th>\n      <th></th>\n      <th></th>\n      <th></th>\n      <th></th>\n      <th></th>\n    </tr>\n  </thead>\n  <tbody>\n    <tr>\n      <th>2016-05-19</th>\n      <td>12.292517</td>\n      <td>15.020604</td>\n      <td>15.225508</td>\n      <td>14.935227</td>\n      <td>15.162898</td>\n      <td>1454554.0</td>\n    </tr>\n    <tr>\n      <th>2016-05-20</th>\n      <td>12.162088</td>\n      <td>14.861234</td>\n      <td>15.231200</td>\n      <td>14.838467</td>\n      <td>15.168590</td>\n      <td>1177663.0</td>\n    </tr>\n    <tr>\n      <th>2016-05-23</th>\n      <td>12.054954</td>\n      <td>14.730323</td>\n      <td>14.997837</td>\n      <td>14.405892</td>\n      <td>14.417275</td>\n      <td>2006226.0</td>\n    </tr>\n    <tr>\n      <th>2016-05-24</th>\n      <td>12.143458</td>\n      <td>14.838467</td>\n      <td>15.026296</td>\n      <td>14.667713</td>\n      <td>14.918152</td>\n      <td>1497422.0</td>\n    </tr>\n    <tr>\n      <th>2016-05-25</th>\n      <td>12.059612</td>\n      <td>14.736015</td>\n      <td>15.157206</td>\n      <td>14.713248</td>\n      <td>14.935227</td>\n      <td>1498301.0</td>\n    </tr>\n    <tr>\n      <th>...</th>\n      <td>...</td>\n      <td>...</td>\n      <td>...</td>\n      <td>...</td>\n      <td>...</td>\n      <td>...</td>\n    </tr>\n    <tr>\n      <th>2021-05-10</th>\n      <td>21.469999</td>\n      <td>21.469999</td>\n      <td>21.469999</td>\n      <td>20.820000</td>\n      <td>20.879999</td>\n      <td>5627500.0</td>\n    </tr>\n    <tr>\n      <th>2021-05-11</th>\n      <td>21.430000</td>\n      <td>21.430000</td>\n      <td>21.580000</td>\n      <td>21.139999</td>\n      <td>21.139999</td>\n      <td>4763800.0</td>\n    </tr>\n    <tr>\n      <th>2021-05-12</th>\n      <td>20.969999</td>\n      <td>20.969999</td>\n      <td>21.180000</td>\n      <td>20.840000</td>\n      <td>21.070000</td>\n      <td>6698700.0</td>\n    </tr>\n    <tr>\n      <th>2021-05-13</th>\n      <td>21.610001</td>\n      <td>21.610001</td>\n      <td>21.740000</td>\n      <td>20.959999</td>\n      <td>20.990000</td>\n      <td>10439700.0</td>\n    </tr>\n    <tr>\n      <th>2021-05-14</th>\n      <td>21.750000</td>\n      <td>21.750000</td>\n      <td>21.969999</td>\n      <td>21.420000</td>\n      <td>21.860001</td>\n      <td>3728500.0</td>\n    </tr>\n  </tbody>\n</table>\n<p>1238 rows × 6 columns</p>\n</div>"
     },
     "metadata": {},
     "execution_count": 14
    }
   ],
   "source": [
    "df"
   ]
  },
  {
   "source": [
    "## teste dict to obj\n"
   ],
   "cell_type": "markdown",
   "metadata": {}
  },
  {
   "cell_type": "code",
   "execution_count": 5,
   "metadata": {},
   "outputs": [],
   "source": [
    "stocks_dict = [{'BBDC3.SA': 22.01, 'TRIS3.SA': 10.7, 'RANI3.SA': 8.2, 'SGPS3.SA': 11.27, 'MILS3.SA': 8.73, 'KEPL3.SA': 52.99, 'JBSS3.SA': 29.6, 'TUPY3.SA': 25.69, 'CSAN3.SA': 22.43, 'CVCB3.SA': 24.85, 'SHOW3.SA': 5.7, 'MOVI3.SA': 17.32, 'SQIA3.SA': 22.05, 'DMVF3.SA': 9.15, 'COGN3.SA': 4.02, 'LPSB3.SA': 4.12, 'POMO4.SA': 2.76, 'OIBR3.SA': 1.54}]"
   ]
  },
  {
   "cell_type": "code",
   "execution_count": 8,
   "metadata": {},
   "outputs": [],
   "source": [
    "import datetime\n",
    "\n",
    "\n",
    "class Stock:\n",
    "    def __init__(self, name: str = '', code: str = '', current_price: float = 1, last_update = None):\n",
    "        self.name = name\n",
    "        self.code = code\n",
    "        self.current_price = current_price\n",
    "        self.last_update = last_update\n",
    "\n",
    "    def set_last_update(self, data):\n",
    "        self.last_update = data\n",
    "        return self\n",
    "\n",
    "    def format_as_dict(self):\n",
    "        return {\n",
    "            'name': self.name,\n",
    "            'code': self.code,\n",
    "            'current_price': self.current_price,\n",
    "            'last_update': self.last_update\n",
    "        }"
   ]
  },
  {
   "cell_type": "code",
   "execution_count": 13,
   "metadata": {},
   "outputs": [
    {
     "output_type": "execute_result",
     "data": {
      "text/plain": [
       "[{'name': '', 'code': 'BBDC3.SA', 'current_price': 22.01, 'last_update': None},\n",
       " {'name': '', 'code': 'TRIS3.SA', 'current_price': 10.7, 'last_update': None},\n",
       " {'name': '', 'code': 'RANI3.SA', 'current_price': 8.2, 'last_update': None},\n",
       " {'name': '', 'code': 'SGPS3.SA', 'current_price': 11.27, 'last_update': None},\n",
       " {'name': '', 'code': 'MILS3.SA', 'current_price': 8.73, 'last_update': None},\n",
       " {'name': '', 'code': 'KEPL3.SA', 'current_price': 52.99, 'last_update': None},\n",
       " {'name': '', 'code': 'JBSS3.SA', 'current_price': 29.6, 'last_update': None},\n",
       " {'name': '', 'code': 'TUPY3.SA', 'current_price': 25.69, 'last_update': None},\n",
       " {'name': '', 'code': 'CSAN3.SA', 'current_price': 22.43, 'last_update': None},\n",
       " {'name': '', 'code': 'CVCB3.SA', 'current_price': 24.85, 'last_update': None},\n",
       " {'name': '', 'code': 'SHOW3.SA', 'current_price': 5.7, 'last_update': None},\n",
       " {'name': '', 'code': 'MOVI3.SA', 'current_price': 17.32, 'last_update': None},\n",
       " {'name': '', 'code': 'SQIA3.SA', 'current_price': 22.05, 'last_update': None},\n",
       " {'name': '', 'code': 'DMVF3.SA', 'current_price': 9.15, 'last_update': None},\n",
       " {'name': '', 'code': 'COGN3.SA', 'current_price': 4.02, 'last_update': None},\n",
       " {'name': '', 'code': 'LPSB3.SA', 'current_price': 4.12, 'last_update': None},\n",
       " {'name': '', 'code': 'POMO4.SA', 'current_price': 2.76, 'last_update': None},\n",
       " {'name': '', 'code': 'OIBR3.SA', 'current_price': 1.54, 'last_update': None}]"
      ]
     },
     "metadata": {},
     "execution_count": 13
    }
   ],
   "source": [
    "[Stock(code=k, current_price=v).format_as_dict() for k, v in stocks_dict[0].items()]\n"
   ]
  }
 ]
}